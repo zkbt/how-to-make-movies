{
 "cells": [
  {
   "cell_type": "markdown",
   "metadata": {
    "slideshow": {
     "slide_type": "slide"
    }
   },
   "source": [
    "# Let's make some movies (in `python`)!"
   ]
  },
  {
   "cell_type": "markdown",
   "metadata": {
    "slideshow": {
     "slide_type": "slide"
    }
   },
   "source": [
    "To follow along, please download [github.com/zkbt/how-to-make-movies](https://github.com/zkbt/how-to-make-movies)"
   ]
  },
  {
   "cell_type": "markdown",
   "metadata": {
    "slideshow": {
     "slide_type": "slide"
    }
   },
   "source": [
    "# Why make movies?"
   ]
  },
  {
   "cell_type": "markdown",
   "metadata": {
    "slideshow": {
     "slide_type": "slide"
    }
   },
   "source": [
    "A movie can show how a system changes with time.\n",
    "<video src='Pythagorean345_movie.mp4' width=100% controls loop></video>"
   ]
  },
  {
   "cell_type": "markdown",
   "metadata": {
    "slideshow": {
     "slide_type": "slide"
    }
   },
   "source": [
    "A movie can help express data or calculations with more than two dimensions.\n",
    "<video src='planetcontrast.mp4' width=100% controls loop></video>"
   ]
  },
  {
   "cell_type": "markdown",
   "metadata": {
    "slideshow": {
     "slide_type": "slide"
    }
   },
   "source": [
    "A movie can help express complicated linked ideas or phenomena.\n",
    "<video src='earth-sunset.mp4' width=100% controls loop></video>"
   ]
  },
  {
   "cell_type": "markdown",
   "metadata": {
    "slideshow": {
     "slide_type": "slide"
    }
   },
   "source": [
    "# How do we make movies?"
   ]
  },
  {
   "cell_type": "markdown",
   "metadata": {
    "slideshow": {
     "slide_type": "slide"
    }
   },
   "source": [
    "You probably already have all the tools you need to make movies = `matplotlib`. "
   ]
  },
  {
   "cell_type": "code",
   "execution_count": null,
   "metadata": {
    "slideshow": {
     "slide_type": "-"
    }
   },
   "outputs": [],
   "source": [
    "# some basic imports\n",
    "import matplotlib.pyplot as plt, numpy as np\n",
    "import matplotlib.animation as ani"
   ]
  },
  {
   "cell_type": "markdown",
   "metadata": {},
   "source": [
    "However, you might need to `conda install ffmpeg` to get access to the nicest encoder for making movies as `.mp4` files."
   ]
  },
  {
   "cell_type": "markdown",
   "metadata": {
    "slideshow": {
     "slide_type": "slide"
    }
   },
   "source": [
    "It can also be helpful to have a progress bar for big loops:"
   ]
  },
  {
   "cell_type": "code",
   "execution_count": null,
   "metadata": {},
   "outputs": [],
   "source": [
    "from tqdm import tqdm"
   ]
  },
  {
   "cell_type": "markdown",
   "metadata": {
    "slideshow": {
     "slide_type": "slide"
    }
   },
   "source": [
    "## The Individual Image Flipbook Method:\n",
    "Conceptually, a movie is a flipbook: (slightly) different plots viewed one after another."
   ]
  },
  {
   "cell_type": "code",
   "execution_count": null,
   "metadata": {
    "slideshow": {
     "slide_type": "-"
    }
   },
   "outputs": [],
   "source": [
    "!mkdir flipbook"
   ]
  },
  {
   "cell_type": "code",
   "execution_count": null,
   "metadata": {
    "slideshow": {
     "slide_type": "slide"
    }
   },
   "outputs": [],
   "source": [
    "# create a matplotlib figure\n",
    "figure = plt.figure(figsize=(4, 2), dpi=300)\n",
    "\n",
    "# create an x-axis\n",
    "x = np.linspace(-5, 35, 1000)\n",
    "\n",
    "# loop over exposures\n",
    "for center in tqdm(range(30)):\n",
    "\n",
    "    # redefine the array of y values\n",
    "    y = 1/np.sqrt(2*np.pi)*np.exp(-0.5*(x - center)**2)\n",
    "\n",
    "    # clear any data that's on the axes\n",
    "    plt.cla()\n",
    "\n",
    "    # plot the new data\n",
    "    plt.plot(x, y, linewidth=5)\n",
    "\n",
    "    # save this snapshot to a movie frame\n",
    "    plt.savefig(f'flipbook/page-{center:02.0f}.png')"
   ]
  },
  {
   "cell_type": "markdown",
   "metadata": {
    "slideshow": {
     "slide_type": "slide"
    }
   },
   "source": [
    "If we look at all those 30 images in order, it looks like a movie."
   ]
  },
  {
   "cell_type": "code",
   "execution_count": null,
   "metadata": {
    "slideshow": {
     "slide_type": "-"
    }
   },
   "outputs": [],
   "source": [
    "!open flipbook/"
   ]
  },
  {
   "cell_type": "markdown",
   "metadata": {},
   "source": [
    "Command-line tools like `ffmpeg` or `convert` (= ImageMagick) could be used to stitch individual frames together into a movie file. But, I find it easier to do this directly in Python."
   ]
  },
  {
   "cell_type": "markdown",
   "metadata": {
    "slideshow": {
     "slide_type": "slide"
    }
   },
   "source": [
    "## The *Creating* Movie Frames Flipbook Method:\n",
    "Instead of saving frames as their own individual image files, we can save them directly to the frames of a movie file."
   ]
  },
  {
   "cell_type": "code",
   "execution_count": null,
   "metadata": {
    "slideshow": {
     "slide_type": "slide"
    }
   },
   "outputs": [],
   "source": [
    "# create a matplotlib figure\n",
    "figure = plt.figure(figsize=(4, 2), dpi=300)\n",
    "\n",
    "# initialize the animator\n",
    "writer = ani.FFMpegWriter(fps=15, bitrate=1000)\n",
    "\n",
    "# create an x-axis\n",
    "x = np.linspace(-5, 35, 1000)\n",
    "\n",
    "# the \"with\" construction is a little confusing (= copy and paste it?)\n",
    "with writer.saving(figure, 'flipbook/cruising-gaussian.mp4', figure.get_dpi()):\n",
    "\n",
    "    # loop over exposures\n",
    "    for center in tqdm(range(30)):\n",
    "\n",
    "        # redefine the array of y values\n",
    "        y = 1/np.sqrt(2*np.pi)*np.exp(-0.5*(x - center)**2)\n",
    "\n",
    "        # clear any data that's on the axes\n",
    "        plt.cla()\n",
    "\n",
    "        # plot the new data\n",
    "        plt.plot(x, y, linewidth=5)\n",
    "        plt.ylim(0, 0.5)\n",
    "        \n",
    "        # save this snapshot to a movie frame\n",
    "        writer.grab_frame()"
   ]
  },
  {
   "cell_type": "markdown",
   "metadata": {
    "slideshow": {
     "slide_type": "slide"
    }
   },
   "source": [
    "This loop made a bunch different plots and wrote each as a subsequent frame of a movie:"
   ]
  },
  {
   "cell_type": "code",
   "execution_count": null,
   "metadata": {},
   "outputs": [],
   "source": [
    "!open flipbook/cruising-gaussian.mp4"
   ]
  },
  {
   "cell_type": "markdown",
   "metadata": {
    "slideshow": {
     "slide_type": "slide"
    }
   },
   "source": [
    "The core ingredients:\n",
    "+ define a `writer`, which allows us to connect to a movie file\n",
    "+ connect that `writer` to a `figure`, saying what you want to write\n",
    "+ write frames to the movie with `writer.grab_frame()`"
   ]
  },
  {
   "cell_type": "code",
   "execution_count": null,
   "metadata": {},
   "outputs": [],
   "source": [
    "# this \"writer\" object will us connected to the file we're writing into\n",
    "writer = ani.FFMpegWriter(fps=1, bitrate=1000)\n",
    "# fps = frames/second, bitrate = bits/second (= higher for better quality)\n",
    "\n",
    "figure = plt.figure(figsize=(4,2)) # where are we plotting?\n",
    "filename = 'boring-movie.mp4' # the filename of the movie\n",
    "dpi = 300 # this is the dots-per-inch of the movie\n",
    "\n",
    "# inside this `with` block, we can (if we want to) save a frame to the file\n",
    "with writer.saving(figure, filename, dpi):\n",
    "\n",
    "    # save a snapshot of the current figure to a movie frame\n",
    "    writer.grab_frame()\n",
    "    \n",
    "    # add a point\n",
    "    plt.scatter([1], [1])\n",
    "\n",
    "    # save a snapshot of the current figure to a movie frame\n",
    "    writer.grab_frame()\n",
    "    \n",
    "    # add a point\n",
    "    plt.scatter([2], [1])\n",
    "\n",
    "    # save a snapshot of the current figure to a movie frame\n",
    "    writer.grab_frame()"
   ]
  },
  {
   "cell_type": "markdown",
   "metadata": {
    "slideshow": {
     "slide_type": "slide"
    }
   },
   "source": [
    "We called `writer.grab_frame()` three times, so our movie has three frames:"
   ]
  },
  {
   "cell_type": "code",
   "execution_count": null,
   "metadata": {},
   "outputs": [],
   "source": [
    "!open boring-movie.mp4"
   ]
  },
  {
   "cell_type": "markdown",
   "metadata": {
    "slideshow": {
     "slide_type": "slide"
    }
   },
   "source": [
    "## The *Updating* Movie Frames Flipbook Method:\n",
    "Before, we were recreating the *entire* figure at each step. This is hard because\n",
    "+ some things might change that you want to remain constant (e.g. `xlim`, `xlim`)\n",
    "+ it takes more time for Python\n",
    "\n",
    "It'd be nice if we could just update the parts of the plot that we actually want to change. Getting efficient at this might will some practice and lots of googling `matplotlib` plotting objects."
   ]
  },
  {
   "cell_type": "code",
   "execution_count": null,
   "metadata": {
    "slideshow": {
     "slide_type": "slide"
    }
   },
   "outputs": [],
   "source": [
    "# create a matplotlib figure\n",
    "figure = plt.figure(figsize=(4, 2), dpi=300)\n",
    "\n",
    "# initialize the animator\n",
    "writer = ani.FFMpegWriter(fps=15, bitrate=1000)\n",
    "\n",
    "# create an x-axis and an empty y-axis\n",
    "x = np.linspace(-5, 35, 1000)\n",
    "y = np.zeros_like(x)\n",
    "plt.ylim(0, 0.5)\n",
    "\n",
    "# create a placeholder curve, and save its variable so we can change it later\n",
    "lines = plt.plot(x, y, linewidth=5)\n",
    "\n",
    "# the \"with\" construction is a little confusing, but feel free to copy and paste this\n",
    "with writer.saving(figure, 'flipbook/another-cruising-gaussian.mp4', figure.get_dpi()):\n",
    "\n",
    "    # loop over exposures\n",
    "    for center in tqdm(range(30)):\n",
    "\n",
    "        # update the array of y values\n",
    "        y = 1/np.sqrt(2*np.pi)*np.exp(-0.5*(x - center)**2)\n",
    "        \n",
    "        # update the positions of the plotted line\n",
    "        lines[0].set_data(x, y)\n",
    "        \n",
    "        # save this snapshot to a movie frame\n",
    "        writer.grab_frame()"
   ]
  },
  {
   "cell_type": "markdown",
   "metadata": {},
   "source": [
    "Neat, it makes that same old movie."
   ]
  },
  {
   "cell_type": "code",
   "execution_count": null,
   "metadata": {},
   "outputs": [],
   "source": [
    "!open flipbook/another-cruising-gaussian.mp4"
   ]
  },
  {
   "cell_type": "markdown",
   "metadata": {
    "slideshow": {
     "slide_type": "slide"
    }
   },
   "source": [
    "### All of these methods work. You do you!\n",
    "\n",
    "1. The Individual Image Flipbook Method writes 6.5 frames in 1 second.\n",
    "2. The *Creating* Movie Frames Flipbook Method writes 21 frames in 1 second.\n",
    "3. The *Updating* Movie Frames Flipbook Method writes 45 frames in 1 second.\n",
    "\n",
    "Option (2) (\"*Creating*\") is often a good compromise (if you haven't weirdly memorized how the objects returned by `plot`, `scatter`, `imshow`, ... work), but in some cases you might find it worth investing in (3)."
   ]
  },
  {
   "cell_type": "markdown",
   "metadata": {
    "slideshow": {
     "slide_type": "slide"
    }
   },
   "source": [
    "# Make your own movie: \n",
    "+ Clone/download [github.com/zkbt/how-to-make-movies](https://github.com/zkbt/how-to-make-movies)\n",
    "+ Use `jupyter` to load the starter notebook `fitting-leavitt-law-demo.ipynb`.\n",
    "+ Run the starter cells, and make you own movie with the 25 periods and magnitudes that went into the first \"Leavitt Law\" period-luminosity relationship for Cepheid variables."
   ]
  }
 ],
 "metadata": {
  "celltoolbar": "Slideshow",
  "kernelspec": {
   "display_name": "Python 3",
   "language": "python",
   "name": "python3"
  },
  "language_info": {
   "codemirror_mode": {
    "name": "ipython",
    "version": 3
   },
   "file_extension": ".py",
   "mimetype": "text/x-python",
   "name": "python",
   "nbconvert_exporter": "python",
   "pygments_lexer": "ipython3",
   "version": "3.6.3"
  }
 },
 "nbformat": 4,
 "nbformat_minor": 2
}
